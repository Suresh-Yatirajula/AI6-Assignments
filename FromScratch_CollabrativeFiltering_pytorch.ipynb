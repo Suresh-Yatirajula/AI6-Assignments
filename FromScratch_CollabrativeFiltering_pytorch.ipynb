{
  "nbformat": 4,
  "nbformat_minor": 0,
  "metadata": {
    "colab": {
      "name": "FromScratch_CollabrativeFiltering_pytorch.ipynb",
      "version": "0.3.2",
      "provenance": [],
      "collapsed_sections": [],
      "include_colab_link": true
    },
    "kernelspec": {
      "name": "python3",
      "display_name": "Python 3"
    }
  },
  "cells": [
    {
      "cell_type": "markdown",
      "metadata": {
        "id": "view-in-github",
        "colab_type": "text"
      },
      "source": [
        "[View in Colaboratory](https://colab.research.google.com/github/Suresh-Yatirajula/AI6-Assignments/blob/master/FromScratch_CollabrativeFiltering_pytorch.ipynb)"
      ]
    },
    {
      "metadata": {
        "id": "rOViffImMIas",
        "colab_type": "code",
        "colab": {}
      },
      "cell_type": "code",
      "source": [
        "# Install fastai\n",
        "!pip install fastai"
      ],
      "execution_count": 0,
      "outputs": []
    },
    {
      "metadata": {
        "id": "sPlsw2BOMIxS",
        "colab_type": "code",
        "colab": {}
      },
      "cell_type": "code",
      "source": [
        "# Import Libraries"
      ],
      "execution_count": 0,
      "outputs": []
    },
    {
      "metadata": {
        "id": "hEVcV3XxMIqj",
        "colab_type": "code",
        "colab": {}
      },
      "cell_type": "code",
      "source": [
        "# Data download from http://files.grouplens.org/datasets/movielens/ml-latest-small.zip"
      ],
      "execution_count": 0,
      "outputs": []
    },
    {
      "metadata": {
        "id": "MdPvcZbcdnxJ",
        "colab_type": "code",
        "colab": {}
      },
      "cell_type": "code",
      "source": [
        "# load and preview dataset"
      ],
      "execution_count": 0,
      "outputs": []
    },
    {
      "metadata": {
        "id": "2Ry1qCCdO8I3",
        "colab_type": "text"
      },
      "cell_type": "markdown",
      "source": [
        "## A Simple DotProduct Pytorch Module"
      ]
    },
    {
      "metadata": {
        "id": "uWwWFO0nH04G",
        "colab_type": "code",
        "colab": {}
      },
      "cell_type": "code",
      "source": [
        "# Inititalize vectors\n"
      ],
      "execution_count": 0,
      "outputs": []
    },
    {
      "metadata": {
        "id": "3vfv7aYIMIz7",
        "colab_type": "code",
        "colab": {}
      },
      "cell_type": "code",
      "source": [
        "# Compute their dot-product"
      ],
      "execution_count": 0,
      "outputs": []
    },
    {
      "metadata": {
        "id": "9bAzdfNTMI3W",
        "colab_type": "code",
        "colab": {}
      },
      "cell_type": "code",
      "source": [
        "# Build pytorch module"
      ],
      "execution_count": 0,
      "outputs": []
    },
    {
      "metadata": {
        "id": "bCSnda2bMI8l",
        "colab_type": "code",
        "colab": {}
      },
      "cell_type": "code",
      "source": [
        "# Initialize model instance, also do a forward pass."
      ],
      "execution_count": 0,
      "outputs": []
    },
    {
      "metadata": {
        "id": "Lvi92WcUPCq0",
        "colab_type": "text"
      },
      "cell_type": "markdown",
      "source": [
        "## A Formal Pytorch Module (Movie_Lens)\n",
        "\n",
        "\n",
        "1.   Same dot product as before.\n",
        "2.   Two embedding matrices (Movie, Ratings.) [link](http://forums.fast.ai/t/deeplearning-lecnotes5/8416)\n",
        "\n"
      ]
    },
    {
      "metadata": {
        "id": "1fC3MvCjfY6b",
        "colab_type": "text"
      },
      "cell_type": "markdown",
      "source": [
        "### Structure your input data"
      ]
    },
    {
      "metadata": {
        "id": "vyVuSVRbPByz",
        "colab_type": "code",
        "colab": {}
      },
      "cell_type": "code",
      "source": [
        "# Get unique userid"
      ],
      "execution_count": 0,
      "outputs": []
    },
    {
      "metadata": {
        "id": "XO6foOjYOrTD",
        "colab_type": "code",
        "colab": {}
      },
      "cell_type": "code",
      "source": [
        "# Map userid to a number"
      ],
      "execution_count": 0,
      "outputs": []
    },
    {
      "metadata": {
        "id": "Z8XsfAkKe06u",
        "colab_type": "code",
        "colab": {}
      },
      "cell_type": "code",
      "source": [
        "# Replace number with userid in the dataset"
      ],
      "execution_count": 0,
      "outputs": []
    },
    {
      "metadata": {
        "id": "30yEW7_VfMbf",
        "colab_type": "code",
        "colab": {}
      },
      "cell_type": "code",
      "source": [
        "# Do the same for the same for movieid."
      ],
      "execution_count": 0,
      "outputs": []
    },
    {
      "metadata": {
        "id": "Lm52EiDOgkb4",
        "colab_type": "code",
        "colab": {}
      },
      "cell_type": "code",
      "source": [
        "# Make X, y (define input and output for NN)"
      ],
      "execution_count": 0,
      "outputs": []
    },
    {
      "metadata": {
        "id": "tWbE3yoefeGd",
        "colab_type": "text"
      },
      "cell_type": "markdown",
      "source": [
        "### The model"
      ]
    },
    {
      "metadata": {
        "id": "TINpYkDNfVCC",
        "colab_type": "code",
        "colab": {}
      },
      "cell_type": "code",
      "source": [
        "# Two embeddings\n",
        "# weight intializers for each embedding\n",
        "# Forwards function, which takes input arguments and gives the dot product.\n",
        "\n",
        "class EmbeddingDot(nn.module):\n",
        "  "
      ],
      "execution_count": 0,
      "outputs": []
    },
    {
      "metadata": {
        "id": "vSjxccfeiDmH",
        "colab_type": "code",
        "colab": {}
      },
      "cell_type": "code",
      "source": [
        "# number of factors or size of embedding vector\n",
        "\n",
        "# make an instance of your class in gpu"
      ],
      "execution_count": 0,
      "outputs": []
    },
    {
      "metadata": {
        "id": "_QbzI3wYg3_V",
        "colab_type": "text"
      },
      "cell_type": "markdown",
      "source": [
        "### The data model\n",
        "\n",
        "Pull from a dataframe, with X, y.  \n",
        "Note that we need  to bind the categorical variables together.\n",
        "\n",
        "##### only fastai thing as of now, [link](https://sourcegraph.com/github.com/fastai/fastai/-/blob/old/fastai/column_data.py#L58:7-58:24&tab=references)"
      ]
    },
    {
      "metadata": {
        "id": "4Dy9jL27g263",
        "colab_type": "code",
        "colab": {}
      },
      "cell_type": "code",
      "source": [
        "data = ColumnarModelData.from_data_frame(path, val_idxs, x, y, ['userId', 'movieId'], 64)"
      ],
      "execution_count": 0,
      "outputs": []
    },
    {
      "metadata": {
        "id": "oUjjp_skhtO0",
        "colab_type": "text"
      },
      "cell_type": "markdown",
      "source": [
        "### Setting up the optimizer"
      ]
    },
    {
      "metadata": {
        "id": "-Y_e-B5mfVHB",
        "colab_type": "code",
        "colab": {}
      },
      "cell_type": "code",
      "source": [
        "# Initialize weight decay.\n",
        "\n",
        "# Now, an optimizer.\n"
      ],
      "execution_count": 0,
      "outputs": []
    },
    {
      "metadata": {
        "id": "15T6MZB3iwmQ",
        "colab_type": "text"
      },
      "cell_type": "markdown",
      "source": [
        "### Fit the model\n",
        "\n",
        "We usually use ?........"
      ]
    },
    {
      "metadata": {
        "id": "fYmaOMYbfVLX",
        "colab_type": "code",
        "colab": {}
      },
      "cell_type": "code",
      "source": [
        "#fit(model, data, 3, opt, F.mse_loss) is a low-level pytorch fit function.\n"
      ],
      "execution_count": 0,
      "outputs": []
    },
    {
      "metadata": {
        "id": "gP77_6QcfVFF",
        "colab_type": "code",
        "colab": {}
      },
      "cell_type": "code",
      "source": [
        "# change learning rate, using set_lrs.\n",
        "\n",
        "#fit again\n"
      ],
      "execution_count": 0,
      "outputs": []
    },
    {
      "metadata": {
        "id": "9a7NeG8WjgLA",
        "colab_type": "text"
      },
      "cell_type": "markdown",
      "source": [
        "### Home Work : Improve the results."
      ]
    },
    {
      "metadata": {
        "id": "W2KGwLUbkNoA",
        "colab_type": "code",
        "colab": {}
      },
      "cell_type": "code",
      "source": [
        ""
      ],
      "execution_count": 0,
      "outputs": []
    }
  ]
}